{
 "cells": [
  {
   "cell_type": "code",
   "execution_count": 3,
   "id": "5a548d5f-cf07-4dfc-8025-08ab3267f298",
   "metadata": {},
   "outputs": [
    {
     "name": "stdout",
     "output_type": "stream",
     "text": [
      "\n",
      "\n",
      "Welcome to the Banking System\n",
      "1. Create Account\n",
      "2. Login\n",
      "3. Exit\n"
     ]
    },
    {
     "name": "stdin",
     "output_type": "stream",
     "text": [
      "Enter your choice:  1\n",
      "Enter new account number:  1234\n",
      "Enter new password:  1234\n"
     ]
    },
    {
     "name": "stdout",
     "output_type": "stream",
     "text": [
      "Account successfully created.\n",
      "\n",
      "\n",
      "Welcome to the Banking System\n",
      "1. Create Account\n",
      "2. Login\n",
      "3. Exit\n"
     ]
    },
    {
     "name": "stdin",
     "output_type": "stream",
     "text": [
      "Enter your choice:  2\n",
      "Enter account number:  1234\n",
      "Enter password:  1234\n"
     ]
    },
    {
     "name": "stdout",
     "output_type": "stream",
     "text": [
      "Login successful.\n",
      "\n",
      "\n",
      "Account Menu\n",
      "1. Deposit\n",
      "2. Withdraw\n",
      "3. Check Balance\n",
      "4. Logout\n"
     ]
    },
    {
     "name": "stdin",
     "output_type": "stream",
     "text": [
      "Enter your choice:  1\n",
      "Enter amount to deposit:  5000\n"
     ]
    },
    {
     "name": "stdout",
     "output_type": "stream",
     "text": [
      "Successfully deposited $5000.00. Balance: $5000.00\n",
      "\n",
      "\n",
      "Account Menu\n",
      "1. Deposit\n",
      "2. Withdraw\n",
      "3. Check Balance\n",
      "4. Logout\n"
     ]
    },
    {
     "name": "stdin",
     "output_type": "stream",
     "text": [
      "Enter your choice:  2\n",
      "Enter amount to withdraw:  500\n"
     ]
    },
    {
     "name": "stdout",
     "output_type": "stream",
     "text": [
      "Successfully withdrew $500.00. New balance: $4500.00\n",
      "\n",
      "\n",
      "Account Menu\n",
      "1. Deposit\n",
      "2. Withdraw\n",
      "3. Check Balance\n",
      "4. Logout\n"
     ]
    },
    {
     "name": "stdin",
     "output_type": "stream",
     "text": [
      "Enter your choice:  3\n"
     ]
    },
    {
     "name": "stdout",
     "output_type": "stream",
     "text": [
      "Your current balance is: $4500.00\n",
      "\n",
      "\n",
      "Account Menu\n",
      "1. Deposit\n",
      "2. Withdraw\n",
      "3. Check Balance\n",
      "4. Logout\n"
     ]
    },
    {
     "name": "stdin",
     "output_type": "stream",
     "text": [
      "Enter your choice:  4\n"
     ]
    },
    {
     "name": "stdout",
     "output_type": "stream",
     "text": [
      "Logging out...\n",
      "\n",
      "\n",
      "Welcome to the Banking System\n",
      "1. Create Account\n",
      "2. Login\n",
      "3. Exit\n"
     ]
    },
    {
     "name": "stdin",
     "output_type": "stream",
     "text": [
      "Enter your choice:  3\n"
     ]
    },
    {
     "name": "stdout",
     "output_type": "stream",
     "text": [
      "Exit\n"
     ]
    }
   ],
   "source": [
    "\n",
    "class BankAccount:\n",
    "    def __init__(self, account_number, password, balance=0):\n",
    "        self.account_number = account_number\n",
    "        self.password = password\n",
    "        self.balance = balance\n",
    "\n",
    "    def deposit(self, amount):\n",
    "        if amount > 0:\n",
    "            self.balance = self.balance + amount\n",
    "            print(f\"Successfully deposited ${amount:.2f}. Balance: ${self.balance:.2f}\")\n",
    "        else:\n",
    "            print(\"Invalid amount.\")\n",
    "\n",
    "    def withdraw(self, amount):\n",
    "        if amount > 0:\n",
    "            if self.balance >= amount:\n",
    "                self.balance = self.balance - amount\n",
    "                print(f\"Successfully withdrew ${amount:.2f}. New balance: ${self.balance:.2f}\")\n",
    "            else:\n",
    "                print(\"Insufficient balace.\")\n",
    "        else:\n",
    "            print(\"Invalid amount.\")\n",
    "\n",
    "    def get_balance(self):\n",
    "        return self.balance\n",
    "\n",
    "class BankSystem:\n",
    "    def __init__(self):\n",
    "        self.accounts = {}\n",
    "\n",
    "    def create_account(self, account_number, password):\n",
    "        if account_number in self.accounts:\n",
    "            print(\"Account number already exists.\")\n",
    "        else:\n",
    "            self.accounts[account_number] = BankAccount(account_number, password)\n",
    "            print(\"Account successfully created.\")\n",
    "\n",
    "    def login(self, account_number, password):\n",
    "        if account_number in self.accounts:\n",
    "            account = self.accounts[account_number]\n",
    "            if account.password == password:\n",
    "                print(\"Login successful.\")\n",
    "                return account\n",
    "            else:\n",
    "                print(\"Incorrect password.\")\n",
    "        else:\n",
    "            print(\"Account not exist in bank.\")\n",
    "        return None\n",
    "\n",
    "def main():\n",
    "    bank_system = BankSystem()\n",
    "\n",
    "    while True:\n",
    "        print(\"\\n\")\n",
    "        print(\"Welcome to the Banking System\")\n",
    "        print(\"1. Create Account\")\n",
    "        print(\"2. Login\")\n",
    "        print(\"3. Exit\")\n",
    "\n",
    "        choice = input(\"Enter your choice: \")\n",
    "\n",
    "        if choice == '1':\n",
    "            account_number = input(\"Enter new account number: \")\n",
    "            password = input(\"Enter new password: \")\n",
    "            bank_system.create_account(account_number, password)\n",
    "        elif choice == '2':\n",
    "            account_number = input(\"Enter account number: \")\n",
    "            password = input(\"Enter password: \")\n",
    "            account = bank_system.login(account_number, password)\n",
    "\n",
    "            if account:\n",
    "                while True:\n",
    "                    print(\"\\n\")\n",
    "                    print(\"Account Menu\")\n",
    "                    print(\"1. Deposit\")\n",
    "                    print(\"2. Withdraw\")\n",
    "                    print(\"3. Check Balance\")\n",
    "                    print(\"4. Logout\")\n",
    "\n",
    "                    acc_choice = input(\"Enter your choice: \")\n",
    "\n",
    "                    if acc_choice == '1':\n",
    "                        amount = float(input(\"Enter amount to deposit: \"))\n",
    "                        account.deposit(amount)\n",
    "                    elif acc_choice == '2':\n",
    "                        amount = float(input(\"Enter amount to withdraw: \"))\n",
    "                        account.withdraw(amount)\n",
    "                    elif acc_choice == '3':\n",
    "                        print(f\"Your current balance is: ${account.get_balance():.2f}\")\n",
    "                    elif acc_choice == '4':\n",
    "                        print(\"Logging out...\")\n",
    "                        break\n",
    "                    else:\n",
    "                        print(\"Invalid choice. Please try again.\")\n",
    "        elif choice == '3':\n",
    "            print(\"Exit\")\n",
    "            break\n",
    "        else:\n",
    "            print(\"Invalid choice. Please try again.\")\n",
    "\n",
    "\n",
    "main()"
   ]
  }
 ],
 "metadata": {
  "kernelspec": {
   "display_name": "Python 3 (ipykernel)",
   "language": "python",
   "name": "python3"
  },
  "language_info": {
   "codemirror_mode": {
    "name": "ipython",
    "version": 3
   },
   "file_extension": ".py",
   "mimetype": "text/x-python",
   "name": "python",
   "nbconvert_exporter": "python",
   "pygments_lexer": "ipython3",
   "version": "3.11.7"
  }
 },
 "nbformat": 4,
 "nbformat_minor": 5
}
